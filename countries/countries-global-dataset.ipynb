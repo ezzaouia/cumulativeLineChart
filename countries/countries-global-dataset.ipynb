{
 "cells": [
  {
   "cell_type": "markdown",
   "metadata": {},
   "source": [
    "# Global Countries Dataset\n",
    "\n",
    "* Master countries dataset https://github.com/mledoze/countries/\n",
    "* See https://github.com/factbook ?\n",
    "* WDI data\n",
    "* Trade data\n",
    "* Google maps mania http://googlemapsmania.blogspot.fr/2015/08/mapping-worldwide-trade.html\n",
    "\n",
    "* Load country files\n",
    "* Merge them\n",
    "* Write country result\n",
    "\n",
    "* Master and metadata should be loaded first\n",
    "* Then the rest of the data on-demand\n",
    "\n",
    "* Outline\n",
    "* Flags\n",
    "\n",
    "* Maps by main exporter as flag background http://www.statistiques-mondiales.com/importations_exportations.htm\n",
    "\n",
    "## Missing countries? No data available?\n",
    "\n",
    "* Flag for missing country\n",
    "* No data available\n",
    "\n",
    "## Visualization\n",
    "\n",
    "*\n",
    "\n",
    "## Misc\n",
    "\n",
    "* Why is it important to do this? http://edge.org/response-detail/26616\n",
    "\n"
   ]
  },
  {
   "cell_type": "markdown",
   "metadata": {},
   "source": [
    "# Data format\n",
    "\n",
    "## Master data\n",
    "\n",
    "List of countries\n",
    "\n",
    "```json\n",
    "{a: }\n",
    "```\n",
    "\n",
    "Other metadata https://github.com/cid-harvard/atlas-subnational-api/commit/da53822eadd1b2a90df4950d9d391795b55b8faf\n",
    "\n",
    "## Indicator\n",
    "\n",
    "* Indicator name\n",
    "* Dataset\n",
    "* Source\n",
    "* Years\n",
    "* Countries\n",
    "* Missing data\n",
    "\n",
    "\n"
   ]
  },
  {
   "cell_type": "markdown",
   "metadata": {},
   "source": [
    "# Country names resolver\n",
    "\n",
    "* "
   ]
  },
  {
   "cell_type": "code",
   "execution_count": null,
   "metadata": {
    "collapsed": true
   },
   "outputs": [],
   "source": [
    "url = 'https://github.com/mledoze/countries/'\n",
    "source = 'https://raw.githubusercontent.com/mledoze/countries/master/dist/countries.json'\n",
    "licence = ''"
   ]
  },
  {
   "cell_type": "markdown",
   "metadata": {},
   "source": [
    "# Trade data\n",
    "\n",
    "* Ubiquity/diversity\n",
    "* vis-toolkit-datasets/data/diversification_ubiquity_hs4_1995_2012.json\n"
   ]
  },
  {
   "cell_type": "markdown",
   "metadata": {},
   "source": [
    "# Madison GDP\n",
    "\n",
    "http://www.theworldeconomy.org/MaddisonTables/MaddisontableB-18.pdf\n",
    "\n",
    "\n",
    "http://www.theworldeconomy.org/statistics.htm\n",
    "\n",
    "Previous attempt: http://127.0.0.1/rv/Dev/atlas-labs/davos/world_gdp.html"
   ]
  },
  {
   "cell_type": "code",
   "execution_count": null,
   "metadata": {
    "collapsed": true
   },
   "outputs": [],
   "source": []
  },
  {
   "cell_type": "markdown",
   "metadata": {
    "collapsed": true
   },
   "source": [
    "# Corruption Perception Index\n",
    "\n",
    "http://www.transparency.org/cpi2015\n",
    "\n",
    "Source: json (but also Excel)\n",
    "\n",
    "## TODO\n",
    "\n",
    "* Column into rows\n",
    "* Calculate unique ranks\n",
    "* .."
   ]
  },
  {
   "cell_type": "markdown",
   "metadata": {
    "collapsed": true
   },
   "source": []
  }
 ],
 "metadata": {
  "kernelspec": {
   "display_name": "Python 3",
   "language": "python",
   "name": "python3"
  },
  "language_info": {
   "codemirror_mode": {
    "name": "ipython",
    "version": 3
   },
   "file_extension": ".py",
   "mimetype": "text/x-python",
   "name": "python",
   "nbconvert_exporter": "python",
   "pygments_lexer": "ipython3",
   "version": "3.4.3"
  }
 },
 "nbformat": 4,
 "nbformat_minor": 0
}
