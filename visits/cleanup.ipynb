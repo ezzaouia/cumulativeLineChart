{
 "cells": [
  {
   "cell_type": "markdown",
   "metadata": {},
   "source": [
    "## imports"
   ]
  },
  {
   "cell_type": "code",
   "execution_count": 104,
   "metadata": {},
   "outputs": [],
   "source": [
    "import pandas as pd"
   ]
  },
  {
   "cell_type": "markdown",
   "metadata": {},
   "source": [
    "## create descriptive file"
   ]
  },
  {
   "cell_type": "code",
   "execution_count": null,
   "metadata": {},
   "outputs": [],
   "source": []
  },
  {
   "cell_type": "markdown",
   "metadata": {},
   "source": [
    "## loading csv files"
   ]
  },
  {
   "cell_type": "code",
   "execution_count": 124,
   "metadata": {},
   "outputs": [],
   "source": [
    "list_ = []\n",
    "\n",
    "df = pd.read_csv(\"joc.csv\", skiprows=1, index_col=None)\n",
    "df.insert(0, \"id\", \"joc\") \n",
    "df.insert(1, \"group\", \"museum\") \n",
    "list_.append(df)\n",
    "df = pd.read_csv(\"llem.csv\", skiprows=1, index_col=None)\n",
    "df.insert(0, \"id\", \"llem\") \n",
    "df.insert(1, \"group\", \"other\") \n",
    "list_.append(df)\n",
    "df = pd.read_csv(\"mdc.csv\", skiprows=1, index_col=None)\n",
    "df.insert(0, \"id\", \"mdc\") \n",
    "df.insert(1, \"group\", \"museum\") \n",
    "list_.append(df)\n",
    "df = pd.read_csv(\"mlel.csv\", skiprows=1, index_col=None)\n",
    "df.insert(0, \"id\", \"mlel\") \n",
    "df.insert(1, \"group\", \"other\") \n",
    "list_.append(df)\n",
    "df = pd.read_csv(\"spl.csv\", skiprows=1, index_col=None)\n",
    "df.insert(0, \"id\", \"spl\") \n",
    "df.insert(1, \"group\", \"library\") \n",
    "list_.append(df)\n",
    "df = pd.read_csv(\"ysl.csv\", skiprows=1, index_col=None)\n",
    "df.insert(0, \"id\", \"ysl\") \n",
    "df.insert(1, \"group\", \"museum\") \n",
    "list_.append(df)\n",
    "\n",
    "entries = pd.concat(list_, axis = 0, ignore_index = True)\n",
    "\n",
    "entries = entries.rename(index=str, columns={\"Date\": \"date\", \"Entrees\": \"entrees\"})"
   ]
  },
  {
   "cell_type": "code",
   "execution_count": 125,
   "metadata": {},
   "outputs": [
    {
     "data": {
      "text/html": [
       "<div>\n",
       "<style scoped>\n",
       "    .dataframe tbody tr th:only-of-type {\n",
       "        vertical-align: middle;\n",
       "    }\n",
       "\n",
       "    .dataframe tbody tr th {\n",
       "        vertical-align: top;\n",
       "    }\n",
       "\n",
       "    .dataframe thead th {\n",
       "        text-align: right;\n",
       "    }\n",
       "</style>\n",
       "<table border=\"1\" class=\"dataframe\">\n",
       "  <thead>\n",
       "    <tr style=\"text-align: right;\">\n",
       "      <th></th>\n",
       "      <th>id</th>\n",
       "      <th>group</th>\n",
       "      <th>date</th>\n",
       "      <th>entrees</th>\n",
       "    </tr>\n",
       "  </thead>\n",
       "  <tbody>\n",
       "    <tr>\n",
       "      <th>0</th>\n",
       "      <td>joc</td>\n",
       "      <td>museum</td>\n",
       "      <td>01/11/2018 00:00</td>\n",
       "      <td>0</td>\n",
       "    </tr>\n",
       "    <tr>\n",
       "      <th>1</th>\n",
       "      <td>joc</td>\n",
       "      <td>museum</td>\n",
       "      <td>01/11/2018 00:30</td>\n",
       "      <td>0</td>\n",
       "    </tr>\n",
       "    <tr>\n",
       "      <th>2</th>\n",
       "      <td>joc</td>\n",
       "      <td>museum</td>\n",
       "      <td>01/11/2018 01:00</td>\n",
       "      <td>0</td>\n",
       "    </tr>\n",
       "    <tr>\n",
       "      <th>3</th>\n",
       "      <td>joc</td>\n",
       "      <td>museum</td>\n",
       "      <td>01/11/2018 01:30</td>\n",
       "      <td>0</td>\n",
       "    </tr>\n",
       "    <tr>\n",
       "      <th>4</th>\n",
       "      <td>joc</td>\n",
       "      <td>museum</td>\n",
       "      <td>01/11/2018 02:00</td>\n",
       "      <td>0</td>\n",
       "    </tr>\n",
       "  </tbody>\n",
       "</table>\n",
       "</div>"
      ],
      "text/plain": [
       "    id   group              date  entrees\n",
       "0  joc  museum  01/11/2018 00:00        0\n",
       "1  joc  museum  01/11/2018 00:30        0\n",
       "2  joc  museum  01/11/2018 01:00        0\n",
       "3  joc  museum  01/11/2018 01:30        0\n",
       "4  joc  museum  01/11/2018 02:00        0"
      ]
     },
     "execution_count": 125,
     "metadata": {},
     "output_type": "execute_result"
    }
   ],
   "source": [
    "entries.head()"
   ]
  },
  {
   "cell_type": "markdown",
   "metadata": {},
   "source": [
    "## re-structuring table"
   ]
  },
  {
   "cell_type": "code",
   "execution_count": 126,
   "metadata": {},
   "outputs": [],
   "source": [
    "entries.insert(2, \"time\", \"\") "
   ]
  },
  {
   "cell_type": "code",
   "execution_count": 127,
   "metadata": {},
   "outputs": [],
   "source": [
    "entries['date'], entries['time'] = entries['date'].str.split(' ', 1).str"
   ]
  },
  {
   "cell_type": "code",
   "execution_count": 128,
   "metadata": {},
   "outputs": [
    {
     "data": {
      "text/html": [
       "<div>\n",
       "<style scoped>\n",
       "    .dataframe tbody tr th:only-of-type {\n",
       "        vertical-align: middle;\n",
       "    }\n",
       "\n",
       "    .dataframe tbody tr th {\n",
       "        vertical-align: top;\n",
       "    }\n",
       "\n",
       "    .dataframe thead th {\n",
       "        text-align: right;\n",
       "    }\n",
       "</style>\n",
       "<table border=\"1\" class=\"dataframe\">\n",
       "  <thead>\n",
       "    <tr style=\"text-align: right;\">\n",
       "      <th></th>\n",
       "      <th>id</th>\n",
       "      <th>group</th>\n",
       "      <th>time</th>\n",
       "      <th>date</th>\n",
       "      <th>entrees</th>\n",
       "    </tr>\n",
       "  </thead>\n",
       "  <tbody>\n",
       "    <tr>\n",
       "      <th>0</th>\n",
       "      <td>joc</td>\n",
       "      <td>museum</td>\n",
       "      <td>00:00</td>\n",
       "      <td>01/11/2018</td>\n",
       "      <td>0</td>\n",
       "    </tr>\n",
       "    <tr>\n",
       "      <th>1</th>\n",
       "      <td>joc</td>\n",
       "      <td>museum</td>\n",
       "      <td>00:30</td>\n",
       "      <td>01/11/2018</td>\n",
       "      <td>0</td>\n",
       "    </tr>\n",
       "    <tr>\n",
       "      <th>2</th>\n",
       "      <td>joc</td>\n",
       "      <td>museum</td>\n",
       "      <td>01:00</td>\n",
       "      <td>01/11/2018</td>\n",
       "      <td>0</td>\n",
       "    </tr>\n",
       "    <tr>\n",
       "      <th>3</th>\n",
       "      <td>joc</td>\n",
       "      <td>museum</td>\n",
       "      <td>01:30</td>\n",
       "      <td>01/11/2018</td>\n",
       "      <td>0</td>\n",
       "    </tr>\n",
       "    <tr>\n",
       "      <th>4</th>\n",
       "      <td>joc</td>\n",
       "      <td>museum</td>\n",
       "      <td>02:00</td>\n",
       "      <td>01/11/2018</td>\n",
       "      <td>0</td>\n",
       "    </tr>\n",
       "  </tbody>\n",
       "</table>\n",
       "</div>"
      ],
      "text/plain": [
       "    id   group   time        date  entrees\n",
       "0  joc  museum  00:00  01/11/2018        0\n",
       "1  joc  museum  00:30  01/11/2018        0\n",
       "2  joc  museum  01:00  01/11/2018        0\n",
       "3  joc  museum  01:30  01/11/2018        0\n",
       "4  joc  museum  02:00  01/11/2018        0"
      ]
     },
     "execution_count": 128,
     "metadata": {},
     "output_type": "execute_result"
    }
   ],
   "source": [
    "entries.head()"
   ]
  },
  {
   "cell_type": "markdown",
   "metadata": {},
   "source": [
    "## make the dataset smaller\n",
    "\n",
    "Restrain to january 2019"
   ]
  },
  {
   "cell_type": "code",
   "execution_count": 129,
   "metadata": {},
   "outputs": [],
   "source": [
    "entries = entries[entries.date.str.contains(\"2019\")]"
   ]
  },
  {
   "cell_type": "markdown",
   "metadata": {},
   "source": [
    "## compute cumulative data"
   ]
  },
  {
   "cell_type": "code",
   "execution_count": 130,
   "metadata": {},
   "outputs": [],
   "source": [
    "entries['sumentrees'] = entries.groupby(['id'])['entrees'].cumsum()"
   ]
  },
  {
   "cell_type": "code",
   "execution_count": 131,
   "metadata": {},
   "outputs": [
    {
     "name": "stdout",
     "output_type": "stream",
     "text": [
      "        id   group   time        date  entrees  sumentrees\n",
      "2928   joc  museum  00:00  01/01/2019        0           0\n",
      "2929   joc  museum  00:30  01/01/2019        0           0\n",
      "2930   joc  museum  01:00  01/01/2019        0           0\n",
      "2931   joc  museum  01:30  01/01/2019        0           0\n",
      "2932   joc  museum  02:00  01/01/2019        0           0\n",
      "2933   joc  museum  02:30  01/01/2019        0           0\n",
      "2934   joc  museum  03:00  01/01/2019        0           0\n",
      "2935   joc  museum  03:30  01/01/2019        0           0\n",
      "2936   joc  museum  04:00  01/01/2019        0           0\n",
      "2937   joc  museum  04:30  01/01/2019        0           0\n",
      "2938   joc  museum  05:00  01/01/2019        0           0\n",
      "2939   joc  museum  05:30  01/01/2019        0           0\n",
      "2940   joc  museum  06:00  01/01/2019        0           0\n",
      "2941   joc  museum  06:30  01/01/2019        0           0\n",
      "2942   joc  museum  07:00  01/01/2019        0           0\n",
      "2943   joc  museum  07:30  01/01/2019        0           0\n",
      "2944   joc  museum  08:00  01/01/2019        0           0\n",
      "2945   joc  museum  08:30  01/01/2019        0           0\n",
      "2946   joc  museum  09:00  01/01/2019        0           0\n",
      "2947   joc  museum  09:30  01/01/2019        0           0\n",
      "2948   joc  museum  10:00  01/01/2019        0           0\n",
      "2949   joc  museum  10:30  01/01/2019        0           0\n",
      "2950   joc  museum  11:00  01/01/2019        0           0\n",
      "2951   joc  museum  11:30  01/01/2019        0           0\n",
      "2952   joc  museum  12:00  01/01/2019        0           0\n",
      "2953   joc  museum  12:30  01/01/2019        0           0\n",
      "2954   joc  museum  13:00  01/01/2019        0           0\n",
      "2955   joc  museum  13:30  01/01/2019        0           0\n",
      "2956   joc  museum  14:00  01/01/2019        0           0\n",
      "2957   joc  museum  14:30  01/01/2019        0           0\n",
      "...    ...     ...    ...         ...      ...         ...\n",
      "25602  ysl  museum  09:00  28/01/2019        0       30081\n",
      "25603  ysl  museum  09:30  28/01/2019        0       30081\n",
      "25604  ysl  museum  10:00  28/01/2019        0       30081\n",
      "25605  ysl  museum  10:30  28/01/2019        0       30081\n",
      "25606  ysl  museum  11:00  28/01/2019        0       30081\n",
      "25607  ysl  museum  11:30  28/01/2019        0       30081\n",
      "25608  ysl  museum  12:00  28/01/2019        0       30081\n",
      "25609  ysl  museum  12:30  28/01/2019        0       30081\n",
      "25610  ysl  museum  13:00  28/01/2019        0       30081\n",
      "25611  ysl  museum  13:30  28/01/2019        0       30081\n",
      "25612  ysl  museum  14:00  28/01/2019        0       30081\n",
      "25613  ysl  museum  14:30  28/01/2019        0       30081\n",
      "25614  ysl  museum  15:00  28/01/2019        0       30081\n",
      "25615  ysl  museum  15:30  28/01/2019        0       30081\n",
      "25616  ysl  museum  16:00  28/01/2019        0       30081\n",
      "25617  ysl  museum  16:30  28/01/2019        0       30081\n",
      "25618  ysl  museum  17:00  28/01/2019        0       30081\n",
      "25619  ysl  museum  17:30  28/01/2019        0       30081\n",
      "25620  ysl  museum  18:00  28/01/2019        0       30081\n",
      "25621  ysl  museum  18:30  28/01/2019        0       30081\n",
      "25622  ysl  museum  19:00  28/01/2019        0       30081\n",
      "25623  ysl  museum  19:30  28/01/2019        0       30081\n",
      "25624  ysl  museum  20:00  28/01/2019        0       30081\n",
      "25625  ysl  museum  20:30  28/01/2019        0       30081\n",
      "25626  ysl  museum  21:00  28/01/2019        0       30081\n",
      "25627  ysl  museum  21:30  28/01/2019        0       30081\n",
      "25628  ysl  museum  22:00  28/01/2019        0       30081\n",
      "25629  ysl  museum  22:30  28/01/2019        0       30081\n",
      "25630  ysl  museum  23:00  28/01/2019        0       30081\n",
      "25631  ysl  museum  23:30  28/01/2019        0       30081\n",
      "\n",
      "[8064 rows x 6 columns]\n"
     ]
    }
   ],
   "source": [
    "print(entries)"
   ]
  },
  {
   "cell_type": "code",
   "execution_count": 132,
   "metadata": {},
   "outputs": [],
   "source": [
    "entries.to_csv(\"all_january.csv\", sep=',', encoding='utf-8', index=False)"
   ]
  },
  {
   "cell_type": "code",
   "execution_count": null,
   "metadata": {},
   "outputs": [],
   "source": []
  },
  {
   "cell_type": "code",
   "execution_count": null,
   "metadata": {},
   "outputs": [],
   "source": []
  },
  {
   "cell_type": "code",
   "execution_count": null,
   "metadata": {},
   "outputs": [],
   "source": []
  },
  {
   "cell_type": "code",
   "execution_count": null,
   "metadata": {},
   "outputs": [],
   "source": []
  },
  {
   "cell_type": "code",
   "execution_count": null,
   "metadata": {},
   "outputs": [],
   "source": []
  }
 ],
 "metadata": {
  "kernelspec": {
   "display_name": "Python 3",
   "language": "python",
   "name": "python3"
  },
  "language_info": {
   "codemirror_mode": {
    "name": "ipython",
    "version": 3
   },
   "file_extension": ".py",
   "mimetype": "text/x-python",
   "name": "python",
   "nbconvert_exporter": "python",
   "pygments_lexer": "ipython3",
   "version": "3.6.4"
  }
 },
 "nbformat": 4,
 "nbformat_minor": 2
}
