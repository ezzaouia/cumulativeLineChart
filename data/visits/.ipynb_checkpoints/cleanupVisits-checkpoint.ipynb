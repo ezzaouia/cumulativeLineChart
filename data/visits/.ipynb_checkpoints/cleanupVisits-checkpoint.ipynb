{
 "cells": [
  {
   "cell_type": "markdown",
   "metadata": {},
   "source": [
    "## imports"
   ]
  },
  {
   "cell_type": "code",
   "execution_count": 37,
   "metadata": {},
   "outputs": [],
   "source": [
    "import pandas as pd"
   ]
  },
  {
   "cell_type": "markdown",
   "metadata": {},
   "source": [
    "## loading csv files"
   ]
  },
  {
   "cell_type": "code",
   "execution_count": 51,
   "metadata": {},
   "outputs": [],
   "source": [
    "list_ = []\n",
    "\n",
    "df = pd.read_csv(\"joc.csv\", skiprows=1, index_col=None)\n",
    "df.insert(0, \"Key\", \"joc\") \n",
    "list_.append(df)\n",
    "df = pd.read_csv(\"llem.csv\", skiprows=1, index_col=None)\n",
    "df.insert(0, \"Key\", \"llem\") \n",
    "list_.append(df)\n",
    "df = pd.read_csv(\"mdc.csv\", skiprows=1, index_col=None)\n",
    "df.insert(0, \"Key\", \"mdc\") \n",
    "list_.append(df)\n",
    "df = pd.read_csv(\"mlel.csv\", skiprows=1, index_col=None)\n",
    "df.insert(0, \"Key\", \"mlel\") \n",
    "list_.append(df)\n",
    "df = pd.read_csv(\"spl.csv\", skiprows=1, index_col=None)\n",
    "df.insert(0, \"Key\", \"spl\") \n",
    "list_.append(df)\n",
    "df = pd.read_csv(\"ysl.csv\", skiprows=1, index_col=None)\n",
    "df.insert(0, \"Key\", \"ysl\") \n",
    "list_.append(df)\n",
    "\n",
    "entries = pd.concat(list_, axis = 0, ignore_index = True)"
   ]
  },
  {
   "cell_type": "code",
   "execution_count": 52,
   "metadata": {},
   "outputs": [
    {
     "data": {
      "text/html": [
       "<div>\n",
       "<style scoped>\n",
       "    .dataframe tbody tr th:only-of-type {\n",
       "        vertical-align: middle;\n",
       "    }\n",
       "\n",
       "    .dataframe tbody tr th {\n",
       "        vertical-align: top;\n",
       "    }\n",
       "\n",
       "    .dataframe thead th {\n",
       "        text-align: right;\n",
       "    }\n",
       "</style>\n",
       "<table border=\"1\" class=\"dataframe\">\n",
       "  <thead>\n",
       "    <tr style=\"text-align: right;\">\n",
       "      <th></th>\n",
       "      <th>Key</th>\n",
       "      <th>Date</th>\n",
       "      <th>Entrees</th>\n",
       "    </tr>\n",
       "  </thead>\n",
       "  <tbody>\n",
       "    <tr>\n",
       "      <th>0</th>\n",
       "      <td>joc</td>\n",
       "      <td>01/11/2018 00:00</td>\n",
       "      <td>0</td>\n",
       "    </tr>\n",
       "    <tr>\n",
       "      <th>1</th>\n",
       "      <td>joc</td>\n",
       "      <td>01/11/2018 00:30</td>\n",
       "      <td>0</td>\n",
       "    </tr>\n",
       "    <tr>\n",
       "      <th>2</th>\n",
       "      <td>joc</td>\n",
       "      <td>01/11/2018 01:00</td>\n",
       "      <td>0</td>\n",
       "    </tr>\n",
       "    <tr>\n",
       "      <th>3</th>\n",
       "      <td>joc</td>\n",
       "      <td>01/11/2018 01:30</td>\n",
       "      <td>0</td>\n",
       "    </tr>\n",
       "    <tr>\n",
       "      <th>4</th>\n",
       "      <td>joc</td>\n",
       "      <td>01/11/2018 02:00</td>\n",
       "      <td>0</td>\n",
       "    </tr>\n",
       "  </tbody>\n",
       "</table>\n",
       "</div>"
      ],
      "text/plain": [
       "   Key              Date  Entrees\n",
       "0  joc  01/11/2018 00:00        0\n",
       "1  joc  01/11/2018 00:30        0\n",
       "2  joc  01/11/2018 01:00        0\n",
       "3  joc  01/11/2018 01:30        0\n",
       "4  joc  01/11/2018 02:00        0"
      ]
     },
     "execution_count": 52,
     "metadata": {},
     "output_type": "execute_result"
    }
   ],
   "source": [
    "entries.head()"
   ]
  },
  {
   "cell_type": "markdown",
   "metadata": {},
   "source": [
    "## re-structuring table"
   ]
  },
  {
   "cell_type": "code",
   "execution_count": 53,
   "metadata": {},
   "outputs": [],
   "source": [
    "entries.insert(2, \"Time\", \"\") "
   ]
  },
  {
   "cell_type": "code",
   "execution_count": 54,
   "metadata": {},
   "outputs": [],
   "source": [
    "entries['Date'], entries['Time'] = entries['Date'].str.split(' ', 1).str"
   ]
  },
  {
   "cell_type": "code",
   "execution_count": 55,
   "metadata": {},
   "outputs": [
    {
     "data": {
      "text/html": [
       "<div>\n",
       "<style scoped>\n",
       "    .dataframe tbody tr th:only-of-type {\n",
       "        vertical-align: middle;\n",
       "    }\n",
       "\n",
       "    .dataframe tbody tr th {\n",
       "        vertical-align: top;\n",
       "    }\n",
       "\n",
       "    .dataframe thead th {\n",
       "        text-align: right;\n",
       "    }\n",
       "</style>\n",
       "<table border=\"1\" class=\"dataframe\">\n",
       "  <thead>\n",
       "    <tr style=\"text-align: right;\">\n",
       "      <th></th>\n",
       "      <th>Key</th>\n",
       "      <th>Date</th>\n",
       "      <th>Time</th>\n",
       "      <th>Entrees</th>\n",
       "    </tr>\n",
       "  </thead>\n",
       "  <tbody>\n",
       "    <tr>\n",
       "      <th>0</th>\n",
       "      <td>joc</td>\n",
       "      <td>01/11/2018</td>\n",
       "      <td>00:00</td>\n",
       "      <td>0</td>\n",
       "    </tr>\n",
       "    <tr>\n",
       "      <th>1</th>\n",
       "      <td>joc</td>\n",
       "      <td>01/11/2018</td>\n",
       "      <td>00:30</td>\n",
       "      <td>0</td>\n",
       "    </tr>\n",
       "    <tr>\n",
       "      <th>2</th>\n",
       "      <td>joc</td>\n",
       "      <td>01/11/2018</td>\n",
       "      <td>01:00</td>\n",
       "      <td>0</td>\n",
       "    </tr>\n",
       "    <tr>\n",
       "      <th>3</th>\n",
       "      <td>joc</td>\n",
       "      <td>01/11/2018</td>\n",
       "      <td>01:30</td>\n",
       "      <td>0</td>\n",
       "    </tr>\n",
       "    <tr>\n",
       "      <th>4</th>\n",
       "      <td>joc</td>\n",
       "      <td>01/11/2018</td>\n",
       "      <td>02:00</td>\n",
       "      <td>0</td>\n",
       "    </tr>\n",
       "  </tbody>\n",
       "</table>\n",
       "</div>"
      ],
      "text/plain": [
       "   Key        Date   Time  Entrees\n",
       "0  joc  01/11/2018  00:00        0\n",
       "1  joc  01/11/2018  00:30        0\n",
       "2  joc  01/11/2018  01:00        0\n",
       "3  joc  01/11/2018  01:30        0\n",
       "4  joc  01/11/2018  02:00        0"
      ]
     },
     "execution_count": 55,
     "metadata": {},
     "output_type": "execute_result"
    }
   ],
   "source": [
    "entries.head()"
   ]
  },
  {
   "cell_type": "markdown",
   "metadata": {},
   "source": [
    "## compute cumulative data"
   ]
  },
  {
   "cell_type": "code",
   "execution_count": 56,
   "metadata": {},
   "outputs": [],
   "source": [
    "entries['EntreesCumulative'] = entries.groupby(['Key'])['Entrees'].cumsum()"
   ]
  },
  {
   "cell_type": "code",
   "execution_count": 57,
   "metadata": {},
   "outputs": [
    {
     "name": "stdout",
     "output_type": "stream",
     "text": [
      "       Key        Date   Time  Entrees  EntreesCumulative\n",
      "0      joc  01/11/2018  00:00        0                  0\n",
      "1      joc  01/11/2018  00:30        0                  0\n",
      "2      joc  01/11/2018  01:00        0                  0\n",
      "3      joc  01/11/2018  01:30        0                  0\n",
      "4      joc  01/11/2018  02:00        0                  0\n",
      "5      joc  01/11/2018  02:30        0                  0\n",
      "6      joc  01/11/2018  03:00        0                  0\n",
      "7      joc  01/11/2018  03:30        0                  0\n",
      "8      joc  01/11/2018  04:00        0                  0\n",
      "9      joc  01/11/2018  04:30        0                  0\n",
      "10     joc  01/11/2018  05:00        0                  0\n",
      "11     joc  01/11/2018  05:30        0                  0\n",
      "12     joc  01/11/2018  06:00        0                  0\n",
      "13     joc  01/11/2018  06:30        0                  0\n",
      "14     joc  01/11/2018  07:00        0                  0\n",
      "15     joc  01/11/2018  07:30        0                  0\n",
      "16     joc  01/11/2018  08:00        0                  0\n",
      "17     joc  01/11/2018  08:30        0                  0\n",
      "18     joc  01/11/2018  09:00       15                 15\n",
      "19     joc  01/11/2018  09:30     2330               2345\n",
      "20     joc  01/11/2018  10:00     2166               4511\n",
      "21     joc  01/11/2018  10:30     2977               7488\n",
      "22     joc  01/11/2018  11:00     2055               9543\n",
      "23     joc  01/11/2018  11:30     2123              11666\n",
      "24     joc  01/11/2018  12:00     2175              13841\n",
      "25     joc  01/11/2018  12:30     1793              15634\n",
      "26     joc  01/11/2018  13:00     1865              17499\n",
      "27     joc  01/11/2018  13:30     2043              19542\n",
      "28     joc  01/11/2018  14:00     1854              21396\n",
      "29     joc  01/11/2018  14:30     2340              23736\n",
      "...    ...         ...    ...      ...                ...\n",
      "25602  ysl  28/01/2019  09:00        0              78676\n",
      "25603  ysl  28/01/2019  09:30        0              78676\n",
      "25604  ysl  28/01/2019  10:00        0              78676\n",
      "25605  ysl  28/01/2019  10:30        0              78676\n",
      "25606  ysl  28/01/2019  11:00        0              78676\n",
      "25607  ysl  28/01/2019  11:30        0              78676\n",
      "25608  ysl  28/01/2019  12:00        0              78676\n",
      "25609  ysl  28/01/2019  12:30        0              78676\n",
      "25610  ysl  28/01/2019  13:00        0              78676\n",
      "25611  ysl  28/01/2019  13:30        0              78676\n",
      "25612  ysl  28/01/2019  14:00        0              78676\n",
      "25613  ysl  28/01/2019  14:30        0              78676\n",
      "25614  ysl  28/01/2019  15:00        0              78676\n",
      "25615  ysl  28/01/2019  15:30        0              78676\n",
      "25616  ysl  28/01/2019  16:00        0              78676\n",
      "25617  ysl  28/01/2019  16:30        0              78676\n",
      "25618  ysl  28/01/2019  17:00        0              78676\n",
      "25619  ysl  28/01/2019  17:30        0              78676\n",
      "25620  ysl  28/01/2019  18:00        0              78676\n",
      "25621  ysl  28/01/2019  18:30        0              78676\n",
      "25622  ysl  28/01/2019  19:00        0              78676\n",
      "25623  ysl  28/01/2019  19:30        0              78676\n",
      "25624  ysl  28/01/2019  20:00        0              78676\n",
      "25625  ysl  28/01/2019  20:30        0              78676\n",
      "25626  ysl  28/01/2019  21:00        0              78676\n",
      "25627  ysl  28/01/2019  21:30        0              78676\n",
      "25628  ysl  28/01/2019  22:00        0              78676\n",
      "25629  ysl  28/01/2019  22:30        0              78676\n",
      "25630  ysl  28/01/2019  23:00        0              78676\n",
      "25631  ysl  28/01/2019  23:30        0              78676\n",
      "\n",
      "[25632 rows x 5 columns]\n"
     ]
    }
   ],
   "source": [
    "print(entries)"
   ]
  },
  {
   "cell_type": "code",
   "execution_count": 59,
   "metadata": {},
   "outputs": [],
   "source": [
    "entries.to_csv(\"all.csv\", sep=',', encoding='utf-8')"
   ]
  },
  {
   "cell_type": "code",
   "execution_count": null,
   "metadata": {},
   "outputs": [],
   "source": []
  }
 ],
 "metadata": {
  "kernelspec": {
   "display_name": "Python 3",
   "language": "python",
   "name": "python3"
  },
  "language_info": {
   "codemirror_mode": {
    "name": "ipython",
    "version": 3
   },
   "file_extension": ".py",
   "mimetype": "text/x-python",
   "name": "python",
   "nbconvert_exporter": "python",
   "pygments_lexer": "ipython3",
   "version": "3.6.4"
  }
 },
 "nbformat": 4,
 "nbformat_minor": 2
}
